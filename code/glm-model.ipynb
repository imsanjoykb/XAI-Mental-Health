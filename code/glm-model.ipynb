{
 "cells": [
  {
   "cell_type": "code",
   "execution_count": 1,
   "metadata": {},
   "outputs": [],
   "source": [
    "import pandas as pd\n",
    "import numpy as np\n",
    "import statsmodels.api as sm\n",
    "import os as os\n",
    "import statsmodels.formula.api as smf"
   ]
  },
  {
   "cell_type": "code",
   "execution_count": 2,
   "metadata": {},
   "outputs": [
    {
     "name": "stdout",
     "output_type": "stream",
     "text": [
      "    Age  Sex  MDD_hx  Rx_hx  Py_hx  Sev  Dur  MDD_dx  Offer_Py  Offer_Rx  \\\n",
      "ID                                                                         \n",
      "19   41    0       0      0      0   31   18       1         1         1   \n",
      "37   41    0       0      0      0   54    3       1         1         1   \n",
      "38   19    1       0      0      0   58    7       1         1         1   \n",
      "39   23    0       0      0      0   24    5       0         0         0   \n",
      "41   19    0       0      0      0   29    6       1         1         1   \n",
      "\n",
      "    Pref_Py  Pref_Rx  Reject_Py  Reject_Rx  Tx_Py  Tx_Rx  Satisfied Team  \\\n",
      "ID                                                                         \n",
      "19        1        0          0          1      1      0          0    A   \n",
      "37        1        1          0          0      1      1          0    A   \n",
      "38        0        0          1          1      0      0          0    A   \n",
      "39        1        1          0          0      0      0          2    A   \n",
      "41        0        0          1          1      0      0          0    A   \n",
      "\n",
      "    train  \n",
      "ID         \n",
      "19      1  \n",
      "37      1  \n",
      "38      1  \n",
      "39      1  \n",
      "41      1  \n"
     ]
    }
   ],
   "source": [
    "df = pd.read_csv('../sim-data/population-sample.csv', index_col=0)\n",
    "\n",
    "df_train = df.loc[ df[\"train\"] == 1, : ]\n",
    "df_test  = df.loc[ df[\"train\"] == 0, : ]\n",
    "\n",
    "print( df_train.head() )"
   ]
  },
  {
   "cell_type": "code",
   "execution_count": 3,
   "metadata": {},
   "outputs": [
    {
     "name": "stdout",
     "output_type": "stream",
     "text": [
      "                 Generalized Linear Model Regression Results                  \n",
      "==============================================================================\n",
      "Dep. Variable:               Offer_Rx   No. Observations:                 2643\n",
      "Model:                            GLM   Df Residuals:                     2635\n",
      "Model Family:                Binomial   Df Model:                            7\n",
      "Link Function:                  logit   Scale:                          1.0000\n",
      "Method:                          IRLS   Log-Likelihood:                -624.77\n",
      "Date:                Wed, 10 Aug 2022   Deviance:                       1249.5\n",
      "Time:                        11:00:13   Pearson chi2:                 2.12e+03\n",
      "No. Iterations:                     8                                         \n",
      "Covariance Type:            nonrobust                                         \n",
      "==============================================================================\n",
      "                 coef    std err          z      P>|z|      [0.025      0.975]\n",
      "------------------------------------------------------------------------------\n",
      "Intercept     -6.6146      0.409    -16.192      0.000      -7.415      -5.814\n",
      "Age            0.0018      0.005      0.394      0.694      -0.007       0.011\n",
      "Sex           -0.4171      0.149     -2.797      0.005      -0.709      -0.125\n",
      "MDD_hx         0.5483      0.242      2.268      0.023       0.074       1.022\n",
      "Rx_hx          0.4775      0.360      1.327      0.185      -0.228       1.183\n",
      "Py_hx         -0.1581      0.364     -0.434      0.664      -0.872       0.556\n",
      "Sev            0.2534      0.012     20.675      0.000       0.229       0.277\n",
      "Dur            0.0456      0.006      8.212      0.000       0.035       0.056\n",
      "==============================================================================\n"
     ]
    }
   ],
   "source": [
    "model_formula = 'Offer_Rx ~ Age + Sex + MDD_hx + Rx_hx + Py_hx + Sev + Dur'\n",
    "\n",
    "model = smf.glm(formula = model_formula, data=df_train, family=sm.families.Binomial())\n",
    "result = model.fit()\n",
    "print(result.summary())"
   ]
  },
  {
   "cell_type": "code",
   "execution_count": 39,
   "metadata": {},
   "outputs": [
    {
     "name": "stdout",
     "output_type": "stream",
     "text": [
      "ID\n",
      "24     0.979576\n",
      "40     0.003522\n",
      "66     0.999990\n",
      "85     0.803423\n",
      "110    0.990649\n",
      "dtype: float64\n"
     ]
    }
   ],
   "source": [
    "# check the model produces predicted probabilites\n",
    "preds = result.predict(df_test)\n",
    "print( preds.head() )"
   ]
  }
 ],
 "metadata": {
  "kernelspec": {
   "display_name": "explain-paper",
   "language": "python",
   "name": "explain-paper"
  },
  "language_info": {
   "codemirror_mode": {
    "name": "ipython",
    "version": 3
   },
   "file_extension": ".py",
   "mimetype": "text/x-python",
   "name": "python",
   "nbconvert_exporter": "python",
   "pygments_lexer": "ipython3",
   "version": "3.6.9"
  },
  "orig_nbformat": 4,
  "vscode": {
   "interpreter": {
    "hash": "31f2aee4e71d21fbe5cf8b01ff0e069b9275f58929596ceb00d14d90e3e16cd6"
   }
  }
 },
 "nbformat": 4,
 "nbformat_minor": 2
}
