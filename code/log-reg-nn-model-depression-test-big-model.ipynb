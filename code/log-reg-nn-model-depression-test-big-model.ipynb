{
 "cells": [
  {
   "cell_type": "code",
   "execution_count": 5,
   "metadata": {},
   "outputs": [],
   "source": [
    "# set up a GPU\n",
    "import os\n",
    "os.environ[\"CUDA_DEVICE_ORDER\"]=\"PCI_BUS_ID\" \n",
    "os.environ[\"CUDA_VISIBLE_DEVICES\"]=\"0, 1\""
   ]
  },
  {
   "cell_type": "code",
   "execution_count": 6,
   "metadata": {},
   "outputs": [],
   "source": [
    "import numpy as np\n",
    "import pandas as pd\n",
    "import torch\n",
    "from torch.utils.data import Dataset, DataLoader\n",
    "import torch.nn as nn\n",
    "\n",
    "from datautils import GenDataset\n",
    "from networkmodels import Network2, load_network, save_network, parameters_to_csv"
   ]
  },
  {
   "cell_type": "code",
   "execution_count": 7,
   "metadata": {},
   "outputs": [
    {
     "name": "stdout",
     "output_type": "stream",
     "text": [
      "Using -- cuda\n"
     ]
    }
   ],
   "source": [
    "# test GPU working (output should be \"Using -- cuda\")\n",
    "device = torch.device('cuda' if torch.cuda.is_available() else 'cpu')\n",
    "print( \"Using --\", device )"
   ]
  },
  {
   "cell_type": "code",
   "execution_count": 8,
   "metadata": {},
   "outputs": [
    {
     "name": "stdout",
     "output_type": "stream",
     "text": [
      " Data Input size = 7\n",
      " Data Target size = 1\n"
     ]
    }
   ],
   "source": [
    "# load / build data set \n",
    "filename = '../sim-data/population-sample.csv'\n",
    "\n",
    "pred_vars_to_use = [\"Age\", \"Sex\", \"MDD_hx\", \"Rx_hx\", \"Py_hx\", \"Sev\", \"Dur\"]\n",
    "target_var_to_use = [\"Offer_Rx\"]\n",
    "\n",
    "# instantiate the data loader for the actual data\n",
    "test_data = GenDataset( filename, pred_vars_to_use, target_var_to_use, trainflag = False )\n",
    "test_loader = DataLoader(test_data, batch_size= len( test_data), shuffle = False, num_workers=2 )\n",
    "\n",
    "# establish input/output dimensions\n",
    "test_x, test_y = next(iter(test_loader))\n",
    "\n",
    "input_size = test_x[0].shape[0]\n",
    "output_size = test_y[0].shape[0]\n",
    "\n",
    "print(f\" Data Input size = {input_size}\")\n",
    "print(f\" Data Target size = {output_size}\")"
   ]
  },
  {
   "cell_type": "code",
   "execution_count": 9,
   "metadata": {},
   "outputs": [
    {
     "name": "stdout",
     "output_type": "stream",
     "text": [
      "Model Activations Total = 33\n"
     ]
    }
   ],
   "source": [
    "hidden_size = 32\n",
    "# instantiate network\n",
    "model = Network2( input_size, hidden_size, output_size)\n",
    "\n",
    "# restore state from epoch 29\n",
    "load_network( model, 'big-net-state_epoch29.pth')\n",
    "print(f\"Model Activations Total = {model.total_activations}\")\n"
   ]
  },
  {
   "cell_type": "code",
   "execution_count": 10,
   "metadata": {},
   "outputs": [],
   "source": [
    "dataset = test_loader.dataset\n",
    "this_input = dataset[1][0]\n",
    "this_label = dataset[1][1]\n",
    "\n",
    "acts = np.zeros( shape = ( len(dataset), model.total_activations ) )\n",
    "sample_data = np.zeros( shape = ( len(dataset), len( this_input ) ) )\n",
    "sample_target = np.zeros( shape = ( len(dataset), 1 ) )\n",
    "\n",
    "for i in range(len( dataset ) ):\n",
    "    this_input = dataset[i][0]\n",
    "    this_label = dataset[i][1]\n",
    "    activations_vector = model.get_activations( this_input )\n",
    "    acts[i,:] = activations_vector\n",
    "    sample_data[i,:] = this_input\n",
    "    sample_target[i,:] = this_label \n",
    "\n",
    "df = pd.DataFrame( np.hstack([sample_data, acts, sample_target]) )\n",
    "df.to_csv('../out-data/test-acts-big-model.csv', header = False)\n",
    "\n",
    "# dump params to a csv\n",
    "parameters_to_csv( model, 'big-net-weights' )\n"
   ]
  }
 ],
 "metadata": {
  "kernelspec": {
   "display_name": "explain-paper",
   "language": "python",
   "name": "explain-paper"
  },
  "language_info": {
   "codemirror_mode": {
    "name": "ipython",
    "version": 3
   },
   "file_extension": ".py",
   "mimetype": "text/x-python",
   "name": "python",
   "nbconvert_exporter": "python",
   "pygments_lexer": "ipython3",
   "version": "3.6.9"
  },
  "orig_nbformat": 4,
  "vscode": {
   "interpreter": {
    "hash": "7dbe341428fbea043c2b22a416b5c5238ef47c89cab20ec188e996942de7c3cf"
   }
  }
 },
 "nbformat": 4,
 "nbformat_minor": 2
}
